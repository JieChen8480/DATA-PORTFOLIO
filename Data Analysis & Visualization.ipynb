{
 "cells": [
  {
   "cell_type": "code",
   "execution_count": null,
   "id": "638b38a4",
   "metadata": {},
   "outputs": [],
   "source": [
    "import pandas as pd\n",
    "import matplotlib.pyplot as plt\n",
    "import seaborn as sns\n",
    "import sqlite3"
   ]
  },
  {
   "cell_type": "code",
   "execution_count": null,
   "id": "729b9b6d",
   "metadata": {},
   "outputs": [],
   "source": [
    "# Connect to the database\n",
    "conn = sqlite3.connect('logistics_performance.db')\n",
    "\n",
    "# Load data from SQL tables into pandas DataFrames\n",
    "shipments_df = pd.read_sql_query(\"SELECT * FROM shipments\", conn)\n",
    "vendors_df = pd.read_sql_query(\"SELECT * FROM vendors\", conn)\n",
    "performance_df = pd.read_sql_query(\"SELECT * FROM performance_metrics\", conn)"
   ]
  },
  {
   "cell_type": "code",
   "execution_count": null,
   "id": "f5c5fedc",
   "metadata": {},
   "outputs": [],
   "source": [
    "# Calculate the on-time delivery rate by vendor\n",
    "on_time_delivery = (performance_df\n",
    "                    .groupby('shipment_id')\n",
    "                    .on_time_delivery.mean()\n",
    "                    .reset_index())\n",
    "on_time_delivery['on_time_delivery_rate'] = on_time_delivery['on_time_delivery'] * 100\n",
    "\n",
    "# Merge with vendors data to analyze vendor performance\n",
    "vendor_performance = pd.merge(on_time_delivery, vendors_df, left_on='shipment_id', right_on='vendor_id')\n",
    "print(vendor_performance[['vendor_name', 'on_time_delivery_rate']])\n",
    "\n",
    "# Plotting on-time delivery rate by vendor\n",
    "plt.figure(figsize=(10, 6))\n",
    "sns.barplot(x='vendor_name', y='on_time_delivery_rate', data=vendor_performance)\n",
    "plt.title('On-Time Delivery Rate by Vendor')\n",
    "plt.xlabel('Vendor')\n",
    "plt.ylabel('On-Time Delivery Rate (%)')\n",
    "plt.xticks(rotation=45)\n",
    "plt.show()"
   ]
  },
  {
   "cell_type": "code",
   "execution_count": null,
   "id": "638054a7",
   "metadata": {},
   "outputs": [],
   "source": [
    "# Calculate average delivery time and cost efficiency by region\n",
    "region_performance = (performance_df\n",
    "                      .groupby('shipment_id')\n",
    "                      .agg(avg_delivery_time=('delivery_time', 'mean'),\n",
    "                           avg_cost_efficiency=('cost_efficiency', 'mean'))\n",
    "                      .reset_index())\n",
    "\n",
    "# Plotting average delivery time by region\n",
    "plt.figure(figsize=(10, 6))\n",
    "sns.barplot(x='region', y='avg_delivery_time', data=region_performance)\n",
    "plt.title('Average Delivery Time by Region')\n",
    "plt.xlabel('Region')\n",
    "plt.ylabel('Average Delivery Time (hours)')\n",
    "plt.xticks(rotation=45)\n",
    "plt.show()"
   ]
  }
 ],
 "metadata": {
  "kernelspec": {
   "display_name": "Python 3",
   "language": "python",
   "name": "python3"
  },
  "language_info": {
   "codemirror_mode": {
    "name": "ipython",
    "version": 3
   },
   "file_extension": ".py",
   "mimetype": "text/x-python",
   "name": "python",
   "nbconvert_exporter": "python",
   "pygments_lexer": "ipython3",
   "version": "3.8.8"
  }
 },
 "nbformat": 4,
 "nbformat_minor": 5
}
