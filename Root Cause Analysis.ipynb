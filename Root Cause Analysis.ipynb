{
 "cells": [
  {
   "cell_type": "code",
   "execution_count": null,
   "id": "cf3ef12f",
   "metadata": {},
   "outputs": [],
   "source": [
    "from scipy.stats import chi2_contingency"
   ]
  },
  {
   "cell_type": "code",
   "execution_count": null,
   "id": "441b23ce",
   "metadata": {},
   "outputs": [],
   "source": [
    "# Identify delays by analyzing 'on_time_delivery'\n",
    "delays = performance_df[performance_df['on_time_delivery'] == 0]\n",
    "\n",
    "# Perform a chi-square test to determine if delays are associated with specific regions\n",
    "delay_region_table = pd.crosstab(delays['region'], delays['on_time_delivery'])\n",
    "chi2, p, dof, expected = chi2_contingency(delay_region_table)\n",
    "\n",
    "# Output the result\n",
    "print(\"Chi-Square Test Results\")\n",
    "print(f\"Chi2 Statistic: {chi2}\")\n",
    "print(f\"P-Value: {p}\")\n",
    "\n",
    "if p < 0.05:\n",
    "    print(\"Conclusion: There is a significant association between delays and region.\")\n",
    "else:\n",
    "    print(\"Conclusion: No significant association between delays and region.\")"
   ]
  }
 ],
 "metadata": {
  "kernelspec": {
   "display_name": "Python 3",
   "language": "python",
   "name": "python3"
  },
  "language_info": {
   "codemirror_mode": {
    "name": "ipython",
    "version": 3
   },
   "file_extension": ".py",
   "mimetype": "text/x-python",
   "name": "python",
   "nbconvert_exporter": "python",
   "pygments_lexer": "ipython3",
   "version": "3.8.8"
  }
 },
 "nbformat": 4,
 "nbformat_minor": 5
}
